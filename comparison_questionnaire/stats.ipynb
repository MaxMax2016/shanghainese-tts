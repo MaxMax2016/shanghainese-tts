{
 "cells": [
  {
   "attachments": {},
   "cell_type": "markdown",
   "metadata": {},
   "source": [
    "# Stats"
   ]
  },
  {
   "attachments": {},
   "cell_type": "markdown",
   "metadata": {},
   "source": [
    "## Imports"
   ]
  },
  {
   "cell_type": "code",
   "execution_count": 46,
   "metadata": {},
   "outputs": [],
   "source": [
    "from glob import glob\n",
    "\n",
    "import matplotlib.pyplot as plt\n",
    "from matplotlib import rcParams\n",
    "import numpy as np\n",
    "import pandas as pd\n",
    "import scipy.stats as st\n",
    "from openpyxl import load_workbook\n",
    "\n",
    "\n",
    "rcParams[\"font.family\"] = \"Minion 3\"\n",
    "\n",
    "\n",
    "def conf_interval_mean(a, conf=0.95):  # 95% confidence interval\n",
    "    mean, sem, m = np.mean(a), st.sem(a), st.t.ppf((1 + conf) / 2.0, len(a) - 1)\n",
    "    return mean, m * sem"
   ]
  },
  {
   "attachments": {},
   "cell_type": "markdown",
   "metadata": {},
   "source": [
    "## Load data"
   ]
  },
  {
   "cell_type": "code",
   "execution_count": 47,
   "metadata": {},
   "outputs": [
    {
     "data": {
      "text/html": [
       "<div>\n",
       "<style scoped>\n",
       "    .dataframe tbody tr th:only-of-type {\n",
       "        vertical-align: middle;\n",
       "    }\n",
       "\n",
       "    .dataframe tbody tr th {\n",
       "        vertical-align: top;\n",
       "    }\n",
       "\n",
       "    .dataframe thead th {\n",
       "        text-align: right;\n",
       "    }\n",
       "</style>\n",
       "<table border=\"1\" class=\"dataframe\">\n",
       "  <thead>\n",
       "    <tr style=\"text-align: right;\">\n",
       "      <th>speaker</th>\n",
       "      <th>1</th>\n",
       "      <th>2</th>\n",
       "      <th>3</th>\n",
       "    </tr>\n",
       "  </thead>\n",
       "  <tbody>\n",
       "    <tr>\n",
       "      <th>comprehensibility-1</th>\n",
       "      <td>[4.0, 4.0, 4.0, 4.0, 5.0, 5.0, 5.0, 5.0, 5.0, ...</td>\n",
       "      <td>[5.0, 4.0, 4.0, 4.0, 5.0, 5.0, 5.0, 5.0, 5.0, ...</td>\n",
       "      <td>[5.0, 5.0, 4.0, 4.0, 5.0, 5.0, 5.0, 5.0, 5.0, ...</td>\n",
       "    </tr>\n",
       "    <tr>\n",
       "      <th>comprehensibility-2</th>\n",
       "      <td>[4.0, 5.0, 4.0, 5.0, 3.0, 5.0, 4.0, 4.0, 5.0, ...</td>\n",
       "      <td>[4.0, 5.0, 4.0, 5.0, 5.0, 5.0, 5.0, 5.0, 5.0, ...</td>\n",
       "      <td>[4.0, 5.0, 4.0, 5.0, 5.0, 5.0, 5.0, 5.0, 5.0, ...</td>\n",
       "    </tr>\n",
       "    <tr>\n",
       "      <th>comprehensibility-3</th>\n",
       "      <td>[4.0, 4.0, 4.0, 4.0, 4.0, 5.0, 4.0, 5.0, 5.0, ...</td>\n",
       "      <td>[5.0, 4.0, 4.0, 4.0, 4.0, 5.0, 5.0, 5.0, 5.0, ...</td>\n",
       "      <td>[5.0, 5.0, 4.0, 5.0, 5.0, 5.0, 5.0, 5.0, 5.0, ...</td>\n",
       "    </tr>\n",
       "    <tr>\n",
       "      <th>comprehensibility-4</th>\n",
       "      <td>[4.0, 4.0, 4.0, 4.0, 5.0, 5.0, 5.0, 5.0, 5.0, ...</td>\n",
       "      <td>[4.0, 5.0, 4.0, 4.0, 5.0, 5.0, 5.0, 5.0, 5.0, ...</td>\n",
       "      <td>[4.0, 5.0, 4.0, 5.0, 5.0, 5.0, 5.0, 5.0, 5.0, ...</td>\n",
       "    </tr>\n",
       "    <tr>\n",
       "      <th>comprehensibility-5</th>\n",
       "      <td>[5.0, 3.0, 4.0, 5.0, 5.0, 5.0, 5.0, 5.0, 5.0, ...</td>\n",
       "      <td>[5.0, 2.0, 4.0, 4.0, 3.0, 5.0, 5.0, 5.0, 4.0, ...</td>\n",
       "      <td>[5.0, 5.0, 4.0, 5.0, 5.0, 5.0, 5.0, 4.0, 5.0, ...</td>\n",
       "    </tr>\n",
       "    <tr>\n",
       "      <th>naturalness-1</th>\n",
       "      <td>[3.0, 3.0, 3.0, 3.0, 5.0, 4.0, 3.0, 5.0, 4.0, ...</td>\n",
       "      <td>[2.0, 3.0, 4.0, 3.0, 3.0, 5.0, 4.0, 5.0, 4.0, ...</td>\n",
       "      <td>[5.0, 5.0, 4.0, 4.0, 5.0, 5.0, 5.0, 5.0, 5.0, ...</td>\n",
       "    </tr>\n",
       "    <tr>\n",
       "      <th>naturalness-2</th>\n",
       "      <td>[2.0, 4.0, 3.0, 4.0, 2.0, 4.0, 2.0, 4.0, 4.0, ...</td>\n",
       "      <td>[3.0, 5.0, 3.0, 4.0, 4.0, 5.0, 4.0, 5.0, 5.0, ...</td>\n",
       "      <td>[5.0, 5.0, 4.0, 5.0, 5.0, 5.0, 5.0, 5.0, 5.0, ...</td>\n",
       "    </tr>\n",
       "    <tr>\n",
       "      <th>naturalness-3</th>\n",
       "      <td>[2.0, 3.0, 3.0, 3.0, 2.0, 4.0, 3.0, 5.0, 5.0, ...</td>\n",
       "      <td>[3.0, 3.0, 3.0, 4.0, 2.0, 5.0, 4.0, 4.0, 5.0, ...</td>\n",
       "      <td>[5.0, 5.0, 3.0, 5.0, 5.0, 5.0, 5.0, 5.0, 5.0, ...</td>\n",
       "    </tr>\n",
       "    <tr>\n",
       "      <th>naturalness-4</th>\n",
       "      <td>[3.0, 4.0, 3.0, 3.0, 5.0, 4.0, 3.0, 4.0, 5.0, ...</td>\n",
       "      <td>[2.0, 5.0, 3.0, 4.0, 5.0, 5.0, 4.0, 5.0, 5.0, ...</td>\n",
       "      <td>[5.0, 5.0, 3.0, 4.0, 5.0, 5.0, 5.0, 5.0, 5.0, ...</td>\n",
       "    </tr>\n",
       "    <tr>\n",
       "      <th>naturalness-5</th>\n",
       "      <td>[4.0, 3.0, 3.0, 4.0, 5.0, 5.0, 3.0, 5.0, 5.0, ...</td>\n",
       "      <td>[1.0, 2.0, 3.0, 3.0, 2.0, 3.0, 4.0, 4.0, 1.0, ...</td>\n",
       "      <td>[5.0, 5.0, 4.0, 5.0, 5.0, 5.0, 5.0, 5.0, 5.0, ...</td>\n",
       "    </tr>\n",
       "    <tr>\n",
       "      <th>accuracy-1</th>\n",
       "      <td>[4.0, 4.0, 4.0, 4.0, 5.0, 4.0, 4.0, 5.0, 5.0, ...</td>\n",
       "      <td>[4.0, 4.0, 4.0, 4.0, 5.0, 5.0, 5.0, 5.0, 5.0, ...</td>\n",
       "      <td>[5.0, 5.0, 4.0, 4.0, 5.0, 5.0, 5.0, 5.0, 5.0, ...</td>\n",
       "    </tr>\n",
       "    <tr>\n",
       "      <th>accuracy-2</th>\n",
       "      <td>[2.0, 5.0, 3.0, 4.0, 2.0, 4.0, 4.0, 4.0, 5.0, ...</td>\n",
       "      <td>[4.0, 5.0, 4.0, 5.0, 5.0, 5.0, 5.0, 5.0, 5.0, ...</td>\n",
       "      <td>[4.0, 5.0, 4.0, 5.0, 5.0, 5.0, 5.0, 5.0, 5.0, ...</td>\n",
       "    </tr>\n",
       "    <tr>\n",
       "      <th>accuracy-3</th>\n",
       "      <td>[4.0, 3.0, 4.0, 4.0, 3.0, 4.0, 4.0, 5.0, 5.0, ...</td>\n",
       "      <td>[4.0, 3.0, 4.0, 4.0, 3.0, 5.0, 5.0, 5.0, 5.0, ...</td>\n",
       "      <td>[5.0, 5.0, 4.0, 5.0, 5.0, 5.0, 5.0, 5.0, 5.0, ...</td>\n",
       "    </tr>\n",
       "    <tr>\n",
       "      <th>accuracy-4</th>\n",
       "      <td>[2.0, 4.0, 4.0, 4.0, 5.0, 4.0, 4.0, 5.0, 4.0, ...</td>\n",
       "      <td>[3.0, 5.0, 4.0, 4.0, 5.0, 5.0, 5.0, 5.0, 5.0, ...</td>\n",
       "      <td>[4.0, 5.0, 4.0, 4.0, 5.0, 5.0, 5.0, 5.0, 5.0, ...</td>\n",
       "    </tr>\n",
       "    <tr>\n",
       "      <th>accuracy-5</th>\n",
       "      <td>[5.0, 3.0, 4.0, 4.0, 5.0, 5.0, 5.0, 4.0, 5.0, ...</td>\n",
       "      <td>[2.0, 2.0, 2.0, 2.0, 1.0, 3.0, 1.0, 4.0, 1.0, ...</td>\n",
       "      <td>[5.0, 5.0, 4.0, 5.0, 5.0, 5.0, 5.0, 5.0, 5.0, ...</td>\n",
       "    </tr>\n",
       "    <tr>\n",
       "      <th>intelligibility-1</th>\n",
       "      <td>[4.0, 4.0, 4.0, 4.0, 5.0, 5.0, 5.0, 5.0, 5.0, ...</td>\n",
       "      <td>[5.0, 4.0, 4.0, 4.0, 5.0, 5.0, 5.0, 5.0, 5.0, ...</td>\n",
       "      <td>[5.0, 5.0, 4.0, 5.0, 5.0, 5.0, 5.0, 5.0, 5.0, ...</td>\n",
       "    </tr>\n",
       "    <tr>\n",
       "      <th>intelligibility-2</th>\n",
       "      <td>[4.0, 5.0, 4.0, 5.0, 2.0, 5.0, 3.0, 4.0, 5.0, ...</td>\n",
       "      <td>[5.0, 5.0, 4.0, 5.0, 5.0, 5.0, 5.0, 5.0, 5.0, ...</td>\n",
       "      <td>[4.0, 5.0, 4.0, 5.0, 5.0, 5.0, 5.0, 5.0, 5.0, ...</td>\n",
       "    </tr>\n",
       "    <tr>\n",
       "      <th>intelligibility-3</th>\n",
       "      <td>[4.0, 3.0, 4.0, 4.0, 4.0, 5.0, 3.0, 5.0, 4.0, ...</td>\n",
       "      <td>[5.0, 3.0, 4.0, 4.0, 4.0, 5.0, 5.0, 5.0, 4.0, ...</td>\n",
       "      <td>[5.0, 5.0, 4.0, 5.0, 5.0, 5.0, 5.0, 5.0, 5.0, ...</td>\n",
       "    </tr>\n",
       "    <tr>\n",
       "      <th>intelligibility-4</th>\n",
       "      <td>[3.0, 4.0, 4.0, 4.0, 5.0, 5.0, 5.0, 5.0, 5.0, ...</td>\n",
       "      <td>[3.0, 5.0, 4.0, 4.0, 5.0, 5.0, 5.0, 5.0, 5.0, ...</td>\n",
       "      <td>[4.0, 5.0, 4.0, 5.0, 5.0, 5.0, 5.0, 5.0, 5.0, ...</td>\n",
       "    </tr>\n",
       "    <tr>\n",
       "      <th>intelligibility-5</th>\n",
       "      <td>[5.0, 3.0, 4.0, 5.0, 5.0, 5.0, 5.0, 5.0, 5.0, ...</td>\n",
       "      <td>[3.0, 2.0, 4.0, 3.0, 3.0, 4.0, 4.0, 5.0, 2.0, ...</td>\n",
       "      <td>[5.0, 5.0, 4.0, 5.0, 5.0, 5.0, 5.0, 5.0, 5.0, ...</td>\n",
       "    </tr>\n",
       "  </tbody>\n",
       "</table>\n",
       "</div>"
      ],
      "text/plain": [
       "speaker                                                              1  \\\n",
       "comprehensibility-1  [4.0, 4.0, 4.0, 4.0, 5.0, 5.0, 5.0, 5.0, 5.0, ...   \n",
       "comprehensibility-2  [4.0, 5.0, 4.0, 5.0, 3.0, 5.0, 4.0, 4.0, 5.0, ...   \n",
       "comprehensibility-3  [4.0, 4.0, 4.0, 4.0, 4.0, 5.0, 4.0, 5.0, 5.0, ...   \n",
       "comprehensibility-4  [4.0, 4.0, 4.0, 4.0, 5.0, 5.0, 5.0, 5.0, 5.0, ...   \n",
       "comprehensibility-5  [5.0, 3.0, 4.0, 5.0, 5.0, 5.0, 5.0, 5.0, 5.0, ...   \n",
       "naturalness-1        [3.0, 3.0, 3.0, 3.0, 5.0, 4.0, 3.0, 5.0, 4.0, ...   \n",
       "naturalness-2        [2.0, 4.0, 3.0, 4.0, 2.0, 4.0, 2.0, 4.0, 4.0, ...   \n",
       "naturalness-3        [2.0, 3.0, 3.0, 3.0, 2.0, 4.0, 3.0, 5.0, 5.0, ...   \n",
       "naturalness-4        [3.0, 4.0, 3.0, 3.0, 5.0, 4.0, 3.0, 4.0, 5.0, ...   \n",
       "naturalness-5        [4.0, 3.0, 3.0, 4.0, 5.0, 5.0, 3.0, 5.0, 5.0, ...   \n",
       "accuracy-1           [4.0, 4.0, 4.0, 4.0, 5.0, 4.0, 4.0, 5.0, 5.0, ...   \n",
       "accuracy-2           [2.0, 5.0, 3.0, 4.0, 2.0, 4.0, 4.0, 4.0, 5.0, ...   \n",
       "accuracy-3           [4.0, 3.0, 4.0, 4.0, 3.0, 4.0, 4.0, 5.0, 5.0, ...   \n",
       "accuracy-4           [2.0, 4.0, 4.0, 4.0, 5.0, 4.0, 4.0, 5.0, 4.0, ...   \n",
       "accuracy-5           [5.0, 3.0, 4.0, 4.0, 5.0, 5.0, 5.0, 4.0, 5.0, ...   \n",
       "intelligibility-1    [4.0, 4.0, 4.0, 4.0, 5.0, 5.0, 5.0, 5.0, 5.0, ...   \n",
       "intelligibility-2    [4.0, 5.0, 4.0, 5.0, 2.0, 5.0, 3.0, 4.0, 5.0, ...   \n",
       "intelligibility-3    [4.0, 3.0, 4.0, 4.0, 4.0, 5.0, 3.0, 5.0, 4.0, ...   \n",
       "intelligibility-4    [3.0, 4.0, 4.0, 4.0, 5.0, 5.0, 5.0, 5.0, 5.0, ...   \n",
       "intelligibility-5    [5.0, 3.0, 4.0, 5.0, 5.0, 5.0, 5.0, 5.0, 5.0, ...   \n",
       "\n",
       "speaker                                                              2  \\\n",
       "comprehensibility-1  [5.0, 4.0, 4.0, 4.0, 5.0, 5.0, 5.0, 5.0, 5.0, ...   \n",
       "comprehensibility-2  [4.0, 5.0, 4.0, 5.0, 5.0, 5.0, 5.0, 5.0, 5.0, ...   \n",
       "comprehensibility-3  [5.0, 4.0, 4.0, 4.0, 4.0, 5.0, 5.0, 5.0, 5.0, ...   \n",
       "comprehensibility-4  [4.0, 5.0, 4.0, 4.0, 5.0, 5.0, 5.0, 5.0, 5.0, ...   \n",
       "comprehensibility-5  [5.0, 2.0, 4.0, 4.0, 3.0, 5.0, 5.0, 5.0, 4.0, ...   \n",
       "naturalness-1        [2.0, 3.0, 4.0, 3.0, 3.0, 5.0, 4.0, 5.0, 4.0, ...   \n",
       "naturalness-2        [3.0, 5.0, 3.0, 4.0, 4.0, 5.0, 4.0, 5.0, 5.0, ...   \n",
       "naturalness-3        [3.0, 3.0, 3.0, 4.0, 2.0, 5.0, 4.0, 4.0, 5.0, ...   \n",
       "naturalness-4        [2.0, 5.0, 3.0, 4.0, 5.0, 5.0, 4.0, 5.0, 5.0, ...   \n",
       "naturalness-5        [1.0, 2.0, 3.0, 3.0, 2.0, 3.0, 4.0, 4.0, 1.0, ...   \n",
       "accuracy-1           [4.0, 4.0, 4.0, 4.0, 5.0, 5.0, 5.0, 5.0, 5.0, ...   \n",
       "accuracy-2           [4.0, 5.0, 4.0, 5.0, 5.0, 5.0, 5.0, 5.0, 5.0, ...   \n",
       "accuracy-3           [4.0, 3.0, 4.0, 4.0, 3.0, 5.0, 5.0, 5.0, 5.0, ...   \n",
       "accuracy-4           [3.0, 5.0, 4.0, 4.0, 5.0, 5.0, 5.0, 5.0, 5.0, ...   \n",
       "accuracy-5           [2.0, 2.0, 2.0, 2.0, 1.0, 3.0, 1.0, 4.0, 1.0, ...   \n",
       "intelligibility-1    [5.0, 4.0, 4.0, 4.0, 5.0, 5.0, 5.0, 5.0, 5.0, ...   \n",
       "intelligibility-2    [5.0, 5.0, 4.0, 5.0, 5.0, 5.0, 5.0, 5.0, 5.0, ...   \n",
       "intelligibility-3    [5.0, 3.0, 4.0, 4.0, 4.0, 5.0, 5.0, 5.0, 4.0, ...   \n",
       "intelligibility-4    [3.0, 5.0, 4.0, 4.0, 5.0, 5.0, 5.0, 5.0, 5.0, ...   \n",
       "intelligibility-5    [3.0, 2.0, 4.0, 3.0, 3.0, 4.0, 4.0, 5.0, 2.0, ...   \n",
       "\n",
       "speaker                                                              3  \n",
       "comprehensibility-1  [5.0, 5.0, 4.0, 4.0, 5.0, 5.0, 5.0, 5.0, 5.0, ...  \n",
       "comprehensibility-2  [4.0, 5.0, 4.0, 5.0, 5.0, 5.0, 5.0, 5.0, 5.0, ...  \n",
       "comprehensibility-3  [5.0, 5.0, 4.0, 5.0, 5.0, 5.0, 5.0, 5.0, 5.0, ...  \n",
       "comprehensibility-4  [4.0, 5.0, 4.0, 5.0, 5.0, 5.0, 5.0, 5.0, 5.0, ...  \n",
       "comprehensibility-5  [5.0, 5.0, 4.0, 5.0, 5.0, 5.0, 5.0, 4.0, 5.0, ...  \n",
       "naturalness-1        [5.0, 5.0, 4.0, 4.0, 5.0, 5.0, 5.0, 5.0, 5.0, ...  \n",
       "naturalness-2        [5.0, 5.0, 4.0, 5.0, 5.0, 5.0, 5.0, 5.0, 5.0, ...  \n",
       "naturalness-3        [5.0, 5.0, 3.0, 5.0, 5.0, 5.0, 5.0, 5.0, 5.0, ...  \n",
       "naturalness-4        [5.0, 5.0, 3.0, 4.0, 5.0, 5.0, 5.0, 5.0, 5.0, ...  \n",
       "naturalness-5        [5.0, 5.0, 4.0, 5.0, 5.0, 5.0, 5.0, 5.0, 5.0, ...  \n",
       "accuracy-1           [5.0, 5.0, 4.0, 4.0, 5.0, 5.0, 5.0, 5.0, 5.0, ...  \n",
       "accuracy-2           [4.0, 5.0, 4.0, 5.0, 5.0, 5.0, 5.0, 5.0, 5.0, ...  \n",
       "accuracy-3           [5.0, 5.0, 4.0, 5.0, 5.0, 5.0, 5.0, 5.0, 5.0, ...  \n",
       "accuracy-4           [4.0, 5.0, 4.0, 4.0, 5.0, 5.0, 5.0, 5.0, 5.0, ...  \n",
       "accuracy-5           [5.0, 5.0, 4.0, 5.0, 5.0, 5.0, 5.0, 5.0, 5.0, ...  \n",
       "intelligibility-1    [5.0, 5.0, 4.0, 5.0, 5.0, 5.0, 5.0, 5.0, 5.0, ...  \n",
       "intelligibility-2    [4.0, 5.0, 4.0, 5.0, 5.0, 5.0, 5.0, 5.0, 5.0, ...  \n",
       "intelligibility-3    [5.0, 5.0, 4.0, 5.0, 5.0, 5.0, 5.0, 5.0, 5.0, ...  \n",
       "intelligibility-4    [4.0, 5.0, 4.0, 5.0, 5.0, 5.0, 5.0, 5.0, 5.0, ...  \n",
       "intelligibility-5    [5.0, 5.0, 4.0, 5.0, 5.0, 5.0, 5.0, 5.0, 5.0, ...  "
      ]
     },
     "execution_count": 47,
     "metadata": {},
     "output_type": "execute_result"
    }
   ],
   "source": [
    "metrics = (\"comprehensibility\", \"naturalness\", \"accuracy\", \"intelligibility\")\n",
    "# creates a dataframe with columns like \"comprehensibility-1\", \"comprehensibility-2\", ..., \"naturalness-1\", ... for each {metric}×{sentence}\n",
    "speakers = (1, 2, 3)\n",
    "total_scores = pd.DataFrame(\n",
    "    columns=[f\"{metric}-{sentence+1}\" for metric in metrics for sentence in range(5)]\n",
    ")\n",
    "# initialise the dataframe with empty arrays with three rows (one for each speaker)\n",
    "total_scores.index.name = \"speaker\"\n",
    "for speaker in speakers:\n",
    "    # set the index to be the speaker number\n",
    "    total_scores.loc[speaker] = [[] for _ in range(20)]\n",
    "\n",
    "for f in glob(\"collected/*.xlsx\"):\n",
    "    # load the raw scores from Excel questionnaires\n",
    "    wb = load_workbook(f)\n",
    "    ws = wb.active\n",
    "    raw_scores = np.array([[cell.value for cell in row] for row in ws[\"B21\":\"E35\"]])\n",
    "\n",
    "    # ensure that this is a valid questionnaire\n",
    "    assert raw_scores.shape == (15, 4)\n",
    "    raw_scores = raw_scores.astype(np.float32)  # force numeric type\n",
    "\n",
    "    for speaker in speakers:\n",
    "        sentence_scores = []\n",
    "        for i in range(0, 15, 3):\n",
    "            sentence_scores.append(raw_scores[i + speaker - 1])\n",
    "\n",
    "        # append the scores to the dataframe\n",
    "        for sentence in range(5):\n",
    "            for i, metric in enumerate(metrics):\n",
    "                total_scores[f\"{metric}-{sentence+1}\"][speaker].append(\n",
    "                    sentence_scores[sentence][i]\n",
    "                )\n",
    "\n",
    "total_scores = total_scores.transpose()\n",
    "total_scores"
   ]
  },
  {
   "attachments": {},
   "cell_type": "markdown",
   "metadata": {},
   "source": [
    "## Analysis"
   ]
  },
  {
   "attachments": {},
   "cell_type": "markdown",
   "metadata": {},
   "source": [
    "### Overall mean"
   ]
  },
  {
   "cell_type": "code",
   "execution_count": 52,
   "metadata": {},
   "outputs": [
    {
     "data": {
      "text/plain": [
       "[(4.14, 0.12427799439810698),\n",
       " (4.185, 0.1446504887649708),\n",
       " (4.83, 0.0561071949160349)]"
      ]
     },
     "execution_count": 52,
     "metadata": {},
     "output_type": "execute_result"
    }
   ],
   "source": [
    "[\n",
    "    conf_interval_mean(arr)\n",
    "    for arr in (\n",
    "        np.array([np.array(l) for l in total_scores[speaker]]).flatten()\n",
    "        for speaker in speakers\n",
    "    )\n",
    "]"
   ]
  },
  {
   "cell_type": "code",
   "execution_count": 67,
   "metadata": {},
   "outputs": [
    {
     "data": {
      "text/plain": [
       "Ttest_indResult(statistic=-0.4653140756229973, pvalue=0.6419610525164777)"
      ]
     },
     "execution_count": 67,
     "metadata": {},
     "output_type": "execute_result"
    }
   ],
   "source": [
    "st.ttest_ind(\n",
    "    np.array([np.array(l) for l in total_scores[1]]).flatten(),\n",
    "    np.array([np.array(l) for l in total_scores[2]]).flatten(),\n",
    ")"
   ]
  },
  {
   "cell_type": "code",
   "execution_count": 54,
   "metadata": {},
   "outputs": [
    {
     "data": {
      "text/html": [
       "<div>\n",
       "<style scoped>\n",
       "    .dataframe tbody tr th:only-of-type {\n",
       "        vertical-align: middle;\n",
       "    }\n",
       "\n",
       "    .dataframe tbody tr th {\n",
       "        vertical-align: top;\n",
       "    }\n",
       "\n",
       "    .dataframe thead th {\n",
       "        text-align: right;\n",
       "    }\n",
       "</style>\n",
       "<table border=\"1\" class=\"dataframe\">\n",
       "  <thead>\n",
       "    <tr style=\"text-align: right;\">\n",
       "      <th>speaker</th>\n",
       "      <th>1</th>\n",
       "      <th>2</th>\n",
       "      <th>3</th>\n",
       "    </tr>\n",
       "  </thead>\n",
       "  <tbody>\n",
       "    <tr>\n",
       "      <th>accuracy</th>\n",
       "      <td>(4.06, 0.25939268571750834)</td>\n",
       "      <td>(4.02, 0.35621334552509487)</td>\n",
       "      <td>(4.82, 0.11029336873243457)</td>\n",
       "    </tr>\n",
       "    <tr>\n",
       "      <th>comprehensibility</th>\n",
       "      <td>(4.48, 0.1745308559562786)</td>\n",
       "      <td>(4.58, 0.182381919566499)</td>\n",
       "      <td>(4.82, 0.11029336873243457)</td>\n",
       "    </tr>\n",
       "    <tr>\n",
       "      <th>intelligibility</th>\n",
       "      <td>(4.36, 0.22058673746486915)</td>\n",
       "      <td>(4.38, 0.23596687957036797)</td>\n",
       "      <td>(4.86, 0.09961378920666397)</td>\n",
       "    </tr>\n",
       "    <tr>\n",
       "      <th>naturalness</th>\n",
       "      <td>(3.66, 0.2848341512079343)</td>\n",
       "      <td>(3.76, 0.3225557034631974)</td>\n",
       "      <td>(4.82, 0.136959565115267)</td>\n",
       "    </tr>\n",
       "  </tbody>\n",
       "</table>\n",
       "</div>"
      ],
      "text/plain": [
       "speaker                                      1                            2  \\\n",
       "accuracy           (4.06, 0.25939268571750834)  (4.02, 0.35621334552509487)   \n",
       "comprehensibility   (4.48, 0.1745308559562786)    (4.58, 0.182381919566499)   \n",
       "intelligibility    (4.36, 0.22058673746486915)  (4.38, 0.23596687957036797)   \n",
       "naturalness         (3.66, 0.2848341512079343)   (3.76, 0.3225557034631974)   \n",
       "\n",
       "speaker                                      3  \n",
       "accuracy           (4.82, 0.11029336873243457)  \n",
       "comprehensibility  (4.82, 0.11029336873243457)  \n",
       "intelligibility    (4.86, 0.09961378920666397)  \n",
       "naturalness          (4.82, 0.136959565115267)  "
      ]
     },
     "execution_count": 54,
     "metadata": {},
     "output_type": "execute_result"
    }
   ],
   "source": [
    "total_scores.groupby(by=lambda x: x.split(\"-\")[0]).sum().applymap(conf_interval_mean)"
   ]
  },
  {
   "cell_type": "code",
   "execution_count": 55,
   "metadata": {},
   "outputs": [
    {
     "data": {
      "text/html": [
       "<div>\n",
       "<style scoped>\n",
       "    .dataframe tbody tr th:only-of-type {\n",
       "        vertical-align: middle;\n",
       "    }\n",
       "\n",
       "    .dataframe tbody tr th {\n",
       "        vertical-align: top;\n",
       "    }\n",
       "\n",
       "    .dataframe thead th {\n",
       "        text-align: right;\n",
       "    }\n",
       "</style>\n",
       "<table border=\"1\" class=\"dataframe\">\n",
       "  <thead>\n",
       "    <tr style=\"text-align: right;\">\n",
       "      <th>speaker</th>\n",
       "      <th>1</th>\n",
       "      <th>2</th>\n",
       "      <th>3</th>\n",
       "    </tr>\n",
       "  </thead>\n",
       "  <tbody>\n",
       "    <tr>\n",
       "      <th>1</th>\n",
       "      <td>(4.35, 0.22381227708152632)</td>\n",
       "      <td>(4.45, 0.23965654230400077)</td>\n",
       "      <td>(4.825, 0.12306744572253456)</td>\n",
       "    </tr>\n",
       "    <tr>\n",
       "      <th>2</th>\n",
       "      <td>(3.7, 0.34123904619742124)</td>\n",
       "      <td>(4.7, 0.18033420649928583)</td>\n",
       "      <td>(4.825, 0.12306744572253456)</td>\n",
       "    </tr>\n",
       "    <tr>\n",
       "      <th>3</th>\n",
       "      <td>(3.85, 0.2762572667645471)</td>\n",
       "      <td>(4.15, 0.2565689360351658)</td>\n",
       "      <td>(4.875, 0.1293026146771884)</td>\n",
       "    </tr>\n",
       "    <tr>\n",
       "      <th>4</th>\n",
       "      <td>(4.275, 0.25075321811303264)</td>\n",
       "      <td>(4.55, 0.23965654230400077)</td>\n",
       "      <td>(4.75, 0.15784434737870706)</td>\n",
       "    </tr>\n",
       "    <tr>\n",
       "      <th>5</th>\n",
       "      <td>(4.525, 0.24006653834142366)</td>\n",
       "      <td>(3.075, 0.4121648150484216)</td>\n",
       "      <td>(4.875, 0.10711646868038867)</td>\n",
       "    </tr>\n",
       "  </tbody>\n",
       "</table>\n",
       "</div>"
      ],
      "text/plain": [
       "speaker                             1                            2  \\\n",
       "1         (4.35, 0.22381227708152632)  (4.45, 0.23965654230400077)   \n",
       "2          (3.7, 0.34123904619742124)   (4.7, 0.18033420649928583)   \n",
       "3          (3.85, 0.2762572667645471)   (4.15, 0.2565689360351658)   \n",
       "4        (4.275, 0.25075321811303264)  (4.55, 0.23965654230400077)   \n",
       "5        (4.525, 0.24006653834142366)  (3.075, 0.4121648150484216)   \n",
       "\n",
       "speaker                             3  \n",
       "1        (4.825, 0.12306744572253456)  \n",
       "2        (4.825, 0.12306744572253456)  \n",
       "3         (4.875, 0.1293026146771884)  \n",
       "4         (4.75, 0.15784434737870706)  \n",
       "5        (4.875, 0.10711646868038867)  "
      ]
     },
     "execution_count": 55,
     "metadata": {},
     "output_type": "execute_result"
    }
   ],
   "source": [
    "total_scores.groupby(by=lambda x: x.split(\"-\")[1]).sum().applymap(conf_interval_mean)"
   ]
  },
  {
   "cell_type": "code",
   "execution_count": 69,
   "metadata": {},
   "outputs": [
    {
     "data": {
      "text/plain": [
       "Ttest_indResult(statistic=-5.240684567587662, pvalue=6.635398865392885e-07)"
      ]
     },
     "execution_count": 69,
     "metadata": {},
     "output_type": "execute_result"
    }
   ],
   "source": [
    "st.ttest_ind(\n",
    "    np.array([total_scores[1][f\"{metric}-2\"] for metric in metrics]).flatten(),\n",
    "    np.array([total_scores[2][f\"{metric}-2\"] for metric in metrics]).flatten(),\n",
    "    alternative=\"less\",\n",
    ")"
   ]
  },
  {
   "cell_type": "code",
   "execution_count": 64,
   "metadata": {},
   "outputs": [
    {
     "data": {
      "text/plain": [
       "Ttest_indResult(statistic=6.148873990007785, pvalue=1.5551237852452662e-08)"
      ]
     },
     "execution_count": 64,
     "metadata": {},
     "output_type": "execute_result"
    }
   ],
   "source": [
    "st.ttest_ind(\n",
    "    np.array([total_scores[1][f\"{metric}-5\"] for metric in metrics]).flatten(),\n",
    "    np.array([total_scores[2][f\"{metric}-5\"] for metric in metrics]).flatten(),\n",
    "    alternative=\"greater\",\n",
    ")"
   ]
  },
  {
   "cell_type": "code",
   "execution_count": 62,
   "metadata": {},
   "outputs": [
    {
     "data": {
      "image/png": "[encoded data removed]",
      "text/plain": [
       "<Figure size 640x480 with 1 Axes>"
      ]
     },
     "metadata": {},
     "output_type": "display_data"
    }
   ],
   "source": [
    "plt.boxplot(\n",
    "    showmeans=True,\n",
    "    x=np.array(\n",
    "        [\n",
    "            np.array(\n",
    "                [\n",
    "                    total_scores[speaker][f\"{metric}-5\"]\n",
    "                    for metric in metrics\n",
    "                ]\n",
    "            ).flatten()\n",
    "            for speaker in speakers\n",
    "        ]\n",
    "    ).transpose()\n",
    ")\n",
    "plt.xticks(np.arange(3) + 1, labels=[\"Speaker 1\", \"Speaker 2\", \"Speaker 3\"])\n",
    "plt.ylabel(\"Metric Scores Combined\")\n",
    "plt.show()"
   ]
  },
  {
   "cell_type": "code",
   "execution_count": null,
   "metadata": {},
   "outputs": [],
   "source": []
  }
 ],
 "metadata": {
  "kernelspec": {
   "display_name": "tts-x86",
   "language": "python",
   "name": "python3"
  },
  "language_info": {
   "codemirror_mode": {
    "name": "ipython",
    "version": 3
   },
   "file_extension": ".py",
   "mimetype": "text/x-python",
   "name": "python",
   "nbconvert_exporter": "python",
   "pygments_lexer": "ipython3",
   "version": "3.10.11"
  },
  "orig_nbformat": 4
 },
 "nbformat": 4,
 "nbformat_minor": 2
}
